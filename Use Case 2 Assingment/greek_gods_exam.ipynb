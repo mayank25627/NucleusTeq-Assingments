{
 "cells": [
  {
   "cell_type": "code",
   "execution_count": 1,
   "metadata": {},
   "outputs": [],
   "source": [
    "import pandas as pd\n"
   ]
  },
  {
   "cell_type": "code",
   "execution_count": 8,
   "metadata": {},
   "outputs": [
    {
     "name": "stdout",
     "output_type": "stream",
     "text": [
      "        God     Goddess                   Domain         Symbol    Age\n",
      "0      Zeus         NaN         King of the Gods    Thunderbolt  10000\n",
      "1  Poseidon         NaN           God of the Sea        Trident   9000\n",
      "2      Hera         NaN        Queen of the Gods        Peacock   8500\n",
      "3    Athena         NaN        Goddess of Wisdom            Owl   8000\n",
      "4     Hades         NaN    God of the Underworld         Helmet   9500\n",
      "0       NaN   Aphrodite          Goddess of Love           Dove   7000\n",
      "1       NaN     Artemis      Goddess of the Hunt  Bow and Arrow   7500\n",
      "2       NaN     Demeter   Goddess of Agriculture          Wheat   8000\n",
      "3       NaN      Hestia    Goddess of the Hearth           Fire   8200\n",
      "4       NaN  Persephone  Queen of the Underworld    Pomegranate   7800\n"
     ]
    }
   ],
   "source": [
    "\n",
    "\n",
    "# 1.Merge the data from greek_gods.csv and greek_goddesses.csv based on a common field and create a new table that includes information about both gods and goddesses.\n",
    "\n",
    "\n",
    "greek_gods_dataframe = pd.read_csv('greek_gods.csv')\n",
    "greek_goddesses_dataframe = pd.read_csv('greek_goddesses.csv')\n",
    "\n",
    "merged_df = pd.concat([greek_gods_dataframe, greek_goddesses_dataframe])\n",
    "\n",
    "new_column_order = ['God', 'Goddess', 'Domain', 'Symbol', 'Age']\n",
    "\n",
    "\n",
    "merged_df = merged_df.reindex(columns=new_column_order)\n",
    "print(merged_df)\n"
   ]
  },
  {
   "cell_type": "code",
   "execution_count": 16,
   "metadata": {},
   "outputs": [
    {
     "name": "stdout",
     "output_type": "stream",
     "text": [
      "        God Goddess                 Domain       Symbol    Age\n",
      "0      Zeus     NaN       King of the Gods  Thunderbolt  10000\n",
      "4     Hades     NaN  God of the Underworld       Helmet   9500\n",
      "1  Poseidon     NaN         God of the Sea      Trident   9000\n",
      "2      Hera     NaN      Queen of the Gods      Peacock   8500\n",
      "3       NaN  Hestia  Goddess of the Hearth         Fire   8200\n"
     ]
    }
   ],
   "source": [
    "# 2.Filter the merged table to only include gods and goddesses who are older than 8000 years, then sort them based on their ages in descending order.\n",
    "\n",
    "filter_dc = merged_df[merged_df['Age'] > 8000]\n",
    "\n",
    "filter_dc_sort = filter_dc.sort_values(by='Age', ascending=False)\n",
    "\n",
    "print(filter_dc_sort)"
   ]
  },
  {
   "cell_type": "code",
   "execution_count": 19,
   "metadata": {},
   "outputs": [
    {
     "name": "stdout",
     "output_type": "stream",
     "text": [
      "Domain\n",
      "God of the Sea              9000.0\n",
      "God of the Underworld       9500.0\n",
      "Goddess of Agriculture      8000.0\n",
      "Goddess of Love             7000.0\n",
      "Goddess of Wisdom           8000.0\n",
      "Goddess of the Hearth       8200.0\n",
      "Goddess of the Hunt         7500.0\n",
      "King of the Gods           10000.0\n",
      "Queen of the Gods           8500.0\n",
      "Queen of the Underworld     7800.0\n",
      "Name: Age, dtype: float64\n"
     ]
    }
   ],
   "source": [
    "# 3.Join the two tables based on the \"Domain\" field and calculate the average age of gods and goddesses in each domain.\n",
    "\n",
    "avg_age_by_domain = merged_df.groupby('Domain')['Age']\n",
    "avg_age_by_domain = avg_age_by_domain.mean()\n",
    "\n",
    "print(avg_age_by_domain)"
   ]
  },
  {
   "cell_type": "code",
   "execution_count": 54,
   "metadata": {},
   "outputs": [
    {
     "name": "stdout",
     "output_type": "stream",
     "text": [
      "The oldest is Zeus (God) with an age of 10000.0 years.\n"
     ]
    }
   ],
   "source": [
    "# 4.Determine which god/goddess has the highest age, and then find out if they are a god or a goddess.\n",
    "\n",
    "import pandas as pd\n",
    "\n",
    "god = pd.read_csv('greek_gods.csv')\n",
    "god.rename(columns={'Age': 'God_Age'}, inplace=True)\n",
    "\n",
    "goddess = pd.read_csv('greek_goddesses.csv')\n",
    "goddess.rename(columns={'Age': 'Goddess_Age'}, inplace=True)\n",
    "\n",
    "\n",
    "merged_god_godess = pd.concat([god, goddess])\n",
    "\n",
    "max_age_god = merged_god_godess['God_Age'].max()\n",
    "max_age_goddess = merged_god_godess['Goddess_Age'].max()\n",
    "\n",
    "\n",
    "if max_age_god > max_age_goddess:\n",
    "    oldest_entity = merged_god_godess[merged_god_godess['God_Age'] == max_age_god].iloc[0]\n",
    "    print(f\"The oldest is {oldest_entity['God']} (God) with an age of {max_age_god} years.\")\n",
    "elif max_age_goddess > max_age_god:\n",
    "    oldest_entity = merged_god_godess[merged_god_godess['Goddess_Age'] == max_age_goddess].iloc[0]\n",
    "    print(f\"The oldest is {oldest_entity['Goddess']} (Goddess) with an age of {max_age_goddess} years.\")\n",
    "else:\n",
    "    print(\"There is no god/goddess with the highest age.\")"
   ]
  },
  {
   "cell_type": "code",
   "execution_count": 56,
   "metadata": {},
   "outputs": [
    {
     "name": "stdout",
     "output_type": "stream",
     "text": [
      "        God                 Domain       Symbol    Age    Age_Group\n",
      "0      Zeus       King of the Gods  Thunderbolt  10000          Old\n",
      "1  Poseidon         God of the Sea      Trident   9000          Old\n",
      "2      Hera      Queen of the Gods      Peacock   8500          Old\n",
      "3    Athena      Goddess of Wisdom          Owl   8000  Middle-aged\n",
      "4     Hades  God of the Underworld       Helmet   9500          Old\n",
      "\n",
      "      Goddess                   Domain         Symbol   Age    Age_Group\n",
      "0   Aphrodite          Goddess of Love           Dove  7000  Middle-aged\n",
      "1     Artemis      Goddess of the Hunt  Bow and Arrow  7500  Middle-aged\n",
      "2     Demeter   Goddess of Agriculture          Wheat  8000  Middle-aged\n",
      "3      Hestia    Goddess of the Hearth           Fire  8200          Old\n",
      "4  Persephone  Queen of the Underworld    Pomegranate  7800  Middle-aged\n"
     ]
    }
   ],
   "source": [
    "# 5.Create a new column in each table called \"Age_Group\" and categorize the gods/goddesses into groups such as \"Young\" (age < 5000), \"Middle-aged\" (age between 5000 and 8000), and \"Old\" (age > 8000).\n",
    "\n",
    "def categorize_age(age):\n",
    "    if age < 5000:\n",
    "        return 'Young'\n",
    "    elif 5000 <= age <= 8000:\n",
    "        return 'Middle-aged'\n",
    "    else:\n",
    "        return 'Old'\n",
    "    \n",
    "\n",
    "god = pd.read_csv('greek_gods.csv')\n",
    "goddess = pd.read_csv('greek_goddesses.csv')\n",
    "\n",
    "\n",
    "god['Age_Group'] = god['Age'].apply(categorize_age)\n",
    "goddess['Age_Group'] = goddess['Age'].apply(categorize_age)\n",
    "\n",
    "print(god)\n",
    "print()\n",
    "print(goddess)\n",
    "\n"
   ]
  },
  {
   "cell_type": "code",
   "execution_count": 57,
   "metadata": {},
   "outputs": [
    {
     "name": "stdout",
     "output_type": "stream",
     "text": [
      "Yes there is a significant age difference and Gods tend to be older than goddesses.\n"
     ]
    }
   ],
   "source": [
    "# 6.Compare the average ages of gods and goddesses. Is there a significant age difference between them? If yes, which group tends to be older?\n",
    "\n",
    "avg_age_gods = god['Age'].mean()\n",
    "avg_age_goddesses = goddess['Age'].mean()\n",
    "age_difference = avg_age_gods - avg_age_goddesses\n",
    "if age_difference > 0:\n",
    "    print(\"Yes there is a significant age difference and Gods tend to be older than goddesses.\")\n",
    "elif age_difference < 0:\n",
    "    print(\"Yes there is a significant age difference and Goddesses tend to be older than gods.\")\n",
    "else:\n",
    "    print(\"The average ages of gods and goddesses are the same.\")"
   ]
  },
  {
   "cell_type": "code",
   "execution_count": 64,
   "metadata": {},
   "outputs": [
    {
     "name": "stdout",
     "output_type": "stream",
     "text": [
      "Zeus\n",
      "Poseidon\n",
      "Hera\n",
      "Hades\n",
      "Hestia\n"
     ]
    }
   ],
   "source": [
    "# 7.Write a Python program using for loop to iterate over the \"Age\" column of the merged table (after merging the gods and goddesses tables) and print out the names of gods/goddesses who are older than 8000 years.\n",
    "\n",
    "\n",
    "for index, row in merged_df.iterrows():\n",
    "    if row['Age'] > 8000:\n",
    "        if pd.notna(row['God']):  # Check if 'God' column is not NaN\n",
    "            print(row['God'])\n",
    "        else:\n",
    "            print(row['Goddess'])\n",
    "\n"
   ]
  },
  {
   "cell_type": "code",
   "execution_count": 71,
   "metadata": {},
   "outputs": [
    {
     "name": "stdout",
     "output_type": "stream",
     "text": [
      "The oldest god/goddess is Zeus with an age of 10000.0 years.\n"
     ]
    }
   ],
   "source": [
    "# 8.Write a Python program to find the oldest god/goddess from the merged table (after merging the gods and goddesses tables) by iterating through the \"Age\" column using a while loop. Print out the name of the oldest god/goddess and their age.\n",
    "\n",
    "merged_god_godess['Age'] = merged_god_godess[['God_Age', 'Goddess_Age']].max(axis=1)\n",
    "oldest_name = None\n",
    "oldest_age = None\n",
    "i = 0\n",
    "while i < len(merged_god_godess):\n",
    "    row = merged_god_godess.iloc[i]\n",
    "    if oldest_age is None or row['Age'] > oldest_age:\n",
    "        oldest_age = row['Age']\n",
    "        oldest_name = row['God'] if pd.notna(row['God']) else row['Goddess']\n",
    "    i += 1\n",
    "\n",
    "print(f\"The oldest god/goddess is {oldest_name} with an age of {oldest_age} years.\")\n"
   ]
  }
 ],
 "metadata": {
  "kernelspec": {
   "display_name": "Python 3",
   "language": "python",
   "name": "python3"
  },
  "language_info": {
   "codemirror_mode": {
    "name": "ipython",
    "version": 3
   },
   "file_extension": ".py",
   "mimetype": "text/x-python",
   "name": "python",
   "nbconvert_exporter": "python",
   "pygments_lexer": "ipython3",
   "version": "3.11.5"
  }
 },
 "nbformat": 4,
 "nbformat_minor": 2
}
