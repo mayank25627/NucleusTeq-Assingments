{
 "cells": [
  {
   "cell_type": "code",
   "execution_count": 4,
   "metadata": {},
   "outputs": [],
   "source": [
    "from pyspark.sql import SparkSession"
   ]
  },
  {
   "cell_type": "code",
   "execution_count": 6,
   "metadata": {},
   "outputs": [],
   "source": [
    "path = r\"D:\\NucleusTeq Practise\\PySpark Assignment\\CSV.csv\""
   ]
  },
  {
   "cell_type": "code",
   "execution_count": 7,
   "metadata": {},
   "outputs": [],
   "source": [
    "spark = SparkSession.builder.getOrCreate()"
   ]
  },
  {
   "cell_type": "code",
   "execution_count": 12,
   "metadata": {},
   "outputs": [],
   "source": [
    "dataframe = spark.read.csv(path)"
   ]
  },
  {
   "cell_type": "code",
   "execution_count": 13,
   "metadata": {},
   "outputs": [
    {
     "name": "stdout",
     "output_type": "stream",
     "text": [
      "+---+--------------------+------------------+----+-------+------+-----+-------+--------------------+----+\n",
      "|_c0|                 _c1|               _c2| _c3|    _c4|   _c5|  _c6|    _c7|                 _c8| _c9|\n",
      "+---+--------------------+------------------+----+-------+------+-----+-------+--------------------+----+\n",
      "|  1|Eldon Base for st...|Muhammed MacIntyre|   3|-213.25| 38.94|   35|Nunavut|Storage & Organiz...| 0.8|\n",
      "|  2|\"1.7 Cubic Foot C...|      Barry French| 293| 457.81|208.16|68.02|Nunavut|          Appliances|0.58|\n",
      "|  3|Cardinal Slant-D�...|      Barry French| 293|  46.71|  8.69| 2.99|Nunavut|Binders and Binde...|0.39|\n",
      "|  4|                R380|     Clay Rozendal| 483|1198.97|195.99| 3.99|Nunavut|Telephones and Co...|0.58|\n",
      "|  5|Holmes HEPA Air P...|    Carlos Soltero| 515|  30.94| 21.78| 5.94|Nunavut|          Appliances| 0.5|\n",
      "|  6|G.E. Longer-Life ...|    Carlos Soltero| 515|   4.43|  6.64| 4.95|Nunavut|  Office Furnishings|0.37|\n",
      "|  7|Angle-D Binders w...|      Carl Jackson| 613| -54.04|   7.3| 7.72|Nunavut|Binders and Binde...|0.38|\n",
      "|  8|SAFCO Mobile Desk...|      Carl Jackson| 613| 127.70| 42.76| 6.22|Nunavut|Storage & Organiz...|NULL|\n",
      "|  9|SAFCO Commercial ...|    Monica Federle| 643|-695.26|138.14|   35|Nunavut|Storage & Organiz...|NULL|\n",
      "| 10|           Xerox 198|   Dorothy Badders| 678|-226.36|  4.98| 8.33|Nunavut|               Paper|0.38|\n",
      "| 11|          Xerox 1980|   Neola Schneider| 807|-166.85|  4.28| 6.18|Nunavut|               Paper| 0.4|\n",
      "| 12|Advantus Map Penn...|   Neola Schneider| 807| -14.33|  3.95|    2|Nunavut|        Rubber Bands|0.53|\n",
      "| 13|Holmes HEPA Air P...|       Carlos Daly| 868| 134.72| 21.78| 5.94|Nunavut|          Appliances| 0.5|\n",
      "| 14|DS/HD IBM Formatt...|       Carlos Daly| 868| 114.46| 47.98| 3.61|Nunavut|Computer Peripherals|0.71|\n",
      "| 15|\"Wilson Jones 1\"\"...|     Claudia Miner| 933|  -4.72|  5.28| 2.99|Nunavut|Binders and Binde...|0.37|\n",
      "| 16|Ultra Commercial ...|   Neola Schneider| 995| 782.91| 39.89| 3.04|Nunavut|  Office Furnishings|0.53|\n",
      "| 17|\"#10-4 1/8\"\" x 9 ...|  Allen Rosenblatt| 998|  93.80| 15.74| 1.39|Nunavut|           Envelopes| 0.4|\n",
      "| 18|Hon 4-Shelf Metal...|   Sylvia Foulston|1154| 440.72|100.98|26.22|Nunavut|           Bookcases| 0.6|\n",
      "| 19|Lesro Sheffield C...|   Sylvia Foulston|1154|-481.04| 71.37|   69|Nunavut|              Tables|0.68|\n",
      "| 20|                g520|       Jim Radford|1344| -11.68| 65.99| 5.26|Nunavut|Telephones and Co...|0.59|\n",
      "+---+--------------------+------------------+----+-------+------+-----+-------+--------------------+----+\n",
      "only showing top 20 rows\n",
      "\n"
     ]
    }
   ],
   "source": [
    "dataframe.show()"
   ]
  },
  {
   "cell_type": "code",
   "execution_count": 14,
   "metadata": {},
   "outputs": [
    {
     "name": "stdout",
     "output_type": "stream",
     "text": [
      "root\n",
      " |-- _c0: string (nullable = true)\n",
      " |-- _c1: string (nullable = true)\n",
      " |-- _c2: string (nullable = true)\n",
      " |-- _c3: string (nullable = true)\n",
      " |-- _c4: string (nullable = true)\n",
      " |-- _c5: string (nullable = true)\n",
      " |-- _c6: string (nullable = true)\n",
      " |-- _c7: string (nullable = true)\n",
      " |-- _c8: string (nullable = true)\n",
      " |-- _c9: string (nullable = true)\n",
      "\n"
     ]
    }
   ],
   "source": [
    "dataframe.printSchema()"
   ]
  },
  {
   "cell_type": "code",
   "execution_count": 15,
   "metadata": {},
   "outputs": [],
   "source": [
    "column = [\"Sr No.\", \"Data\", \"Name\", \"Value\", \"Point\", \"Point\", \"Point\", \"Data\", \"Point\"]"
   ]
  },
  {
   "cell_type": "code",
   "execution_count": 16,
   "metadata": {},
   "outputs": [],
   "source": [
    "for old, newColumn in zip(dataframe.columns, column):\n",
    "  dataframe = dataframe.withColumnRenamed(old, newColumn)\n"
   ]
  },
  {
   "cell_type": "code",
   "execution_count": 17,
   "metadata": {},
   "outputs": [
    {
     "name": "stdout",
     "output_type": "stream",
     "text": [
      "+------+--------------------+------------------+-----+-------+------+-----+-------+--------------------+----+\n",
      "|Sr No.|                Data|              Name|Value|  Point| Point|Point|   Data|               Point| _c9|\n",
      "+------+--------------------+------------------+-----+-------+------+-----+-------+--------------------+----+\n",
      "|     1|Eldon Base for st...|Muhammed MacIntyre|    3|-213.25| 38.94|   35|Nunavut|Storage & Organiz...| 0.8|\n",
      "|     2|\"1.7 Cubic Foot C...|      Barry French|  293| 457.81|208.16|68.02|Nunavut|          Appliances|0.58|\n",
      "|     3|Cardinal Slant-D�...|      Barry French|  293|  46.71|  8.69| 2.99|Nunavut|Binders and Binde...|0.39|\n",
      "|     4|                R380|     Clay Rozendal|  483|1198.97|195.99| 3.99|Nunavut|Telephones and Co...|0.58|\n",
      "|     5|Holmes HEPA Air P...|    Carlos Soltero|  515|  30.94| 21.78| 5.94|Nunavut|          Appliances| 0.5|\n",
      "|     6|G.E. Longer-Life ...|    Carlos Soltero|  515|   4.43|  6.64| 4.95|Nunavut|  Office Furnishings|0.37|\n",
      "|     7|Angle-D Binders w...|      Carl Jackson|  613| -54.04|   7.3| 7.72|Nunavut|Binders and Binde...|0.38|\n",
      "|     8|SAFCO Mobile Desk...|      Carl Jackson|  613| 127.70| 42.76| 6.22|Nunavut|Storage & Organiz...|NULL|\n",
      "|     9|SAFCO Commercial ...|    Monica Federle|  643|-695.26|138.14|   35|Nunavut|Storage & Organiz...|NULL|\n",
      "|    10|           Xerox 198|   Dorothy Badders|  678|-226.36|  4.98| 8.33|Nunavut|               Paper|0.38|\n",
      "|    11|          Xerox 1980|   Neola Schneider|  807|-166.85|  4.28| 6.18|Nunavut|               Paper| 0.4|\n",
      "|    12|Advantus Map Penn...|   Neola Schneider|  807| -14.33|  3.95|    2|Nunavut|        Rubber Bands|0.53|\n",
      "|    13|Holmes HEPA Air P...|       Carlos Daly|  868| 134.72| 21.78| 5.94|Nunavut|          Appliances| 0.5|\n",
      "|    14|DS/HD IBM Formatt...|       Carlos Daly|  868| 114.46| 47.98| 3.61|Nunavut|Computer Peripherals|0.71|\n",
      "|    15|\"Wilson Jones 1\"\"...|     Claudia Miner|  933|  -4.72|  5.28| 2.99|Nunavut|Binders and Binde...|0.37|\n",
      "|    16|Ultra Commercial ...|   Neola Schneider|  995| 782.91| 39.89| 3.04|Nunavut|  Office Furnishings|0.53|\n",
      "|    17|\"#10-4 1/8\"\" x 9 ...|  Allen Rosenblatt|  998|  93.80| 15.74| 1.39|Nunavut|           Envelopes| 0.4|\n",
      "|    18|Hon 4-Shelf Metal...|   Sylvia Foulston| 1154| 440.72|100.98|26.22|Nunavut|           Bookcases| 0.6|\n",
      "|    19|Lesro Sheffield C...|   Sylvia Foulston| 1154|-481.04| 71.37|   69|Nunavut|              Tables|0.68|\n",
      "|    20|                g520|       Jim Radford| 1344| -11.68| 65.99| 5.26|Nunavut|Telephones and Co...|0.59|\n",
      "+------+--------------------+------------------+-----+-------+------+-----+-------+--------------------+----+\n",
      "only showing top 20 rows\n",
      "\n"
     ]
    }
   ],
   "source": [
    "dataframe.show()"
   ]
  },
  {
   "cell_type": "code",
   "execution_count": 20,
   "metadata": {},
   "outputs": [
    {
     "data": {
      "text/plain": [
       "[Row(Sr No.='1', Data='Eldon Base for stackable storage shelf, platinum', Name='Muhammed MacIntyre', Value='3', Point='-213.25', Point='38.94', Point='35', Data='Nunavut', Point='Storage & Organization', _c9='0.8'),\n",
       " Row(Sr No.='2', Data='\"1.7 Cubic Foot Compact \"\"Cube\"\" Office Refrigerators\"', Name='Barry French', Value='293', Point='457.81', Point='208.16', Point='68.02', Data='Nunavut', Point='Appliances', _c9='0.58'),\n",
       " Row(Sr No.='3', Data='Cardinal Slant-D� Ring Binder, Heavy Gauge Vinyl', Name='Barry French', Value='293', Point='46.71', Point='8.69', Point='2.99', Data='Nunavut', Point='Binders and Binder Accessories', _c9='0.39'),\n",
       " Row(Sr No.='4', Data='R380', Name='Clay Rozendal', Value='483', Point='1198.97', Point='195.99', Point='3.99', Data='Nunavut', Point='Telephones and Communication', _c9='0.58'),\n",
       " Row(Sr No.='5', Data='Holmes HEPA Air Purifier', Name='Carlos Soltero', Value='515', Point='30.94', Point='21.78', Point='5.94', Data='Nunavut', Point='Appliances', _c9='0.5')]"
      ]
     },
     "execution_count": 20,
     "metadata": {},
     "output_type": "execute_result"
    }
   ],
   "source": [
    "dataframe.head(5)"
   ]
  },
  {
   "cell_type": "code",
   "execution_count": 21,
   "metadata": {},
   "outputs": [
    {
     "data": {
      "text/plain": [
       "[Row(Sr No.='991', Data='Office Star - Mid Back Dual function Ergonomic High Back Chair with 2-Way Adjustable Arms', Name='Alex Avila', Value='44231', Point='116.10', Point='160.98', Point='30', Data='British Columbia', Point='Chairs & Chairmats', _c9='0.62'),\n",
       " Row(Sr No.='992', Data='Belkin 107-key enhanced keyboard, USB/PS/2 interface', Name='Alex Avila', Value='44231', Point='-87.96', Point='17.98', Point='4', Data='British Columbia', Point='Computer Peripherals', _c9='0.79'),\n",
       " Row(Sr No.='993', Data='5185', Name='Alex Avila', Value='44231', Point='311.64', Point='115.99', Point='8.99', Data='British Columbia', Point='Telephones and Communication', _c9='0.58'),\n",
       " Row(Sr No.='994', Data='Hon Every-Day� Chair Series Swivel Task Chairs', Name='Sonia Sunley', Value='45573', Point='-151.46', Point='120.98', Point='30', Data='British Columbia', Point='Chairs & Chairmats', _c9='0.64'),\n",
       " Row(Sr No.='995', Data='Avery 494', Name='Lisa DeCherney', Value='45763', Point='24.28', Point='2.61', Point='0.5', Data='British Columbia', Point='Labels', _c9='0.39'),\n",
       " Row(Sr No.='996', Data='Xerox 1905', Name='Dennis Bolton', Value='48165', Point='-147.27', Point='6.48', Point='9.54', Data='British Columbia', Point='Paper', _c9='0.37'),\n",
       " Row(Sr No.='997', Data='Dana Halogen Swing-Arm Architect Lamp', Name=\"Anthony O'Donnell\", Value='48197', Point='154.74', Point='40.97', Point='14.45', Data='British Columbia', Point='Office Furnishings', _c9='0.57'),\n",
       " Row(Sr No.='998', Data='Maxell DVD-RAM Discs', Name='Barbara Fisher', Value='48484', Point='67.96', Point='16.48', Point='1.99', Data='British Columbia', Point='Computer Peripherals', _c9='0.42'),\n",
       " Row(Sr No.='999', Data='DAX Contemporary Wood Frame with Silver Metal Mat, Desktop, 11 x 14 Size', Name='Barbara Fisher', Value='48484', Point='133.83', Point='20.24', Point='6.67', Data='British Columbia', Point='Office Furnishings', _c9='0.49'),\n",
       " Row(Sr No.='1000', Data='Computer Printout Paper with Letter-Trim Perforations', Name='Barbara Fisher', Value='48484', Point='153.80', Point='18.97', Point='9.03', Data='British Columbia', Point='Paper', _c9='0.37')]"
      ]
     },
     "execution_count": 21,
     "metadata": {},
     "output_type": "execute_result"
    }
   ],
   "source": [
    "dataframe.tail(10)"
   ]
  },
  {
   "cell_type": "code",
   "execution_count": 22,
   "metadata": {},
   "outputs": [
    {
     "data": {
      "text/plain": [
       "1000"
      ]
     },
     "execution_count": 22,
     "metadata": {},
     "output_type": "execute_result"
    }
   ],
   "source": [
    "dataframe.count()"
   ]
  },
  {
   "cell_type": "code",
   "execution_count": null,
   "metadata": {},
   "outputs": [],
   "source": []
  }
 ],
 "metadata": {
  "kernelspec": {
   "display_name": "Python 3",
   "language": "python",
   "name": "python3"
  },
  "language_info": {
   "codemirror_mode": {
    "name": "ipython",
    "version": 3
   },
   "file_extension": ".py",
   "mimetype": "text/x-python",
   "name": "python",
   "nbconvert_exporter": "python",
   "pygments_lexer": "ipython3",
   "version": "3.11.5"
  }
 },
 "nbformat": 4,
 "nbformat_minor": 2
}
